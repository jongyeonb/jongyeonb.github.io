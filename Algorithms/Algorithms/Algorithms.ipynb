{
 "cells": [
  {
   "cell_type": "markdown",
   "metadata": {},
   "source": [
    "## Algorithm 01 ##"
   ]
  },
  {
   "cell_type": "code",
   "execution_count": 15,
   "metadata": {},
   "outputs": [
    {
     "name": "stdout",
     "output_type": "stream",
     "text": [
      "[0] 540 320 50 60\n",
      "[1] 435 256 120 30\n"
     ]
    }
   ],
   "source": [
    "def update_coordinates(frame_n, frame_n1):\n",
    "    updated_frame_n = frame_n.copy()\n",
    "    N = len(frame_n)\n",
    "\n",
    "    updated_coordinates = []  # Initialize a list to store updated coordinates\n",
    "\n",
    "    for n in range(N):\n",
    "        class_n, xn, yn, wn, hn = frame_n[n]\n",
    "        class_n1, xn1, yn1, wn1, hn1 = frame_n1[n]\n",
    "\n",
    "        if class_n == 0 and class_n1 == 0:\n",
    "            dx = abs(xn1 - xn)\n",
    "            dy = abs(yn1 - yn)\n",
    "\n",
    "            if dx < 10 and dy < 10:\n",
    "                xn1, yn1 = xn, yn\n",
    "            elif dx < 10 and dy >= 10:\n",
    "                xn1 = xn\n",
    "            elif dx >= 10 and dy < 10:\n",
    "                yn1 = yn\n",
    "\n",
    "            updated_frame_n[n] = [class_n, xn1, yn1, wn, hn]\n",
    "            updated_coordinates.append(updated_frame_n[n])  # Append updated coordinates\n",
    "\n",
    "        elif class_n == 1 and class_n1 == 1:\n",
    "            dx = abs(xn1 - xn)\n",
    "            dy = abs(yn1 - yn)\n",
    "\n",
    "            if dx < 10 and dy < 10:\n",
    "                xn1, yn1 = xn, yn\n",
    "            elif dx < 10 and dy >= 10:\n",
    "                xn1 = xn\n",
    "            elif dx >= 10 and dy < 10:\n",
    "                yn1 = yn\n",
    "\n",
    "            updated_frame_n[n] = [class_n, xn1, yn1, wn, hn]\n",
    "            updated_coordinates.append(updated_frame_n[n])  # Append updated coordinates\n",
    "\n",
    "    return updated_coordinates  # Return the list of updated coordinates\n",
    "\n",
    "# Example input coordinates for \"crane\" and \"module\" classes\n",
    "frame_n = [[0, 540, 320, 50, 60], [1, 470, 256, 120, 30]]\n",
    "frame_n1 = [[0, 540, 320, 46, 60], [1, 435, 260, 120, 20]]\n",
    "\n",
    "updated_coordinates = update_coordinates(frame_n, frame_n1)\n",
    "\n",
    "# Print the updated coordinates in the same format as the input\n",
    "for n, updated_coord in enumerate(updated_coordinates):\n",
    "    class_n, xn, yn, wn, hn = updated_coord\n",
    "    print(f\"[{class_n}] {xn} {yn} {wn} {hn}\")\n"
   ]
  },
  {
   "cell_type": "code",
   "execution_count": null,
   "metadata": {},
   "outputs": [],
   "source": []
  }
 ],
 "metadata": {
  "kernelspec": {
   "display_name": "base",
   "language": "python",
   "name": "python3"
  },
  "language_info": {
   "codemirror_mode": {
    "name": "ipython",
    "version": 3
   },
   "file_extension": ".py",
   "mimetype": "text/x-python",
   "name": "python",
   "nbconvert_exporter": "python",
   "pygments_lexer": "ipython3",
   "version": "3.10.9"
  },
  "orig_nbformat": 4
 },
 "nbformat": 4,
 "nbformat_minor": 2
}
