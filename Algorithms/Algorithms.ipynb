{
 "cells": [
  {
   "cell_type": "markdown",
   "metadata": {},
   "source": [
    "## Algorithm 01 ##"
   ]
  },
  {
   "cell_type": "code",
   "execution_count": 3,
   "metadata": {},
   "outputs": [
    {
     "name": "stdout",
     "output_type": "stream",
     "text": [
      "[0] 540 320 50 60\n",
      "[1] 435 256 120 30\n"
     ]
    }
   ],
   "source": [
    "def update_coordinates(frame_n, frame_n1):\n",
    "    updated_frame_n = frame_n.copy()\n",
    "    N = len(frame_n)\n",
    "\n",
    "    updated_coordinates = [] \n",
    "    for n in range(N):\n",
    "        class_n, xn, yn, wn, hn = frame_n[n]\n",
    "        class_n1, xn1, yn1, wn1, hn1 = frame_n1[n]\n",
    "\n",
    "        if class_n == 0 and class_n1 == 0:\n",
    "            dx = abs(xn1 - xn)\n",
    "            dy = abs(yn1 - yn)\n",
    "\n",
    "            if dx < 10 and dy < 10:\n",
    "                xn1, yn1 = xn, yn\n",
    "            elif dx < 10 and dy >= 10:\n",
    "                xn1 = xn\n",
    "            elif dx >= 10 and dy < 10:\n",
    "                yn1 = yn\n",
    "\n",
    "            updated_frame_n[n] = [class_n, xn1, yn1, wn, hn]\n",
    "            updated_coordinates.append(updated_frame_n[n])  \n",
    "\n",
    "        elif class_n == 1 and class_n1 == 1:\n",
    "            dx = abs(xn1 - xn)\n",
    "            dy = abs(yn1 - yn)\n",
    "\n",
    "            if dx < 10 and dy < 10:\n",
    "                xn1, yn1 = xn, yn\n",
    "            elif dx < 10 and dy >= 10:\n",
    "                xn1 = xn\n",
    "            elif dx >= 10 and dy < 10:\n",
    "                yn1 = yn\n",
    "\n",
    "            updated_frame_n[n] = [class_n, xn1, yn1, wn, hn]\n",
    "            updated_coordinates.append(updated_frame_n[n]) \n",
    "\n",
    "    return updated_coordinates \n",
    "\n",
    "\n",
    "\n",
    "updated_coordinates = update_coordinates(frame_n, frame_n1)\n",
    "\n",
    "\n",
    "for n, updated_coord in enumerate(updated_coordinates):\n",
    "    class_n, xn, yn, wn, hn = updated_coord\n",
    "    print(f\"[{class_n}] {xn} {yn} {wn} {hn}\")\n"
   ]
  },
  {
   "cell_type": "markdown",
   "metadata": {},
   "source": [
    "## Algorithm 02 ##"
   ]
  },
  {
   "cell_type": "code",
   "execution_count": null,
   "metadata": {},
   "outputs": [],
   "source": [
    "import pandas as pd\n",
    "\n",
    "# Load the Excel file\n",
    "df = pd.read_excel(\"classification.xlsx\")\n",
    "\n",
    "# Define the rules\n",
    "def apply_rules(row):\n",
    "    if row['objectness_crane'] == 1 and row['objectness_module'] == 1 and row['movement_crane'] == 1 and row['movement_module'] == 1:\n",
    "        return 2\n",
    "    elif row['objectness_crane'] == 1 and row['objectness_module'] == 0 and row['movement_crane'] == 1 and row['movement_module'] == 0:\n",
    "        return 4\n",
    "    elif row['objectness_crane'] == 1 and row['objectness_module'] == 0 and row['movement_crane'] == 0 and row['movement_module'] == 0:\n",
    "        return 5\n",
    "    else:\n",
    "        return 0  # For rows that don't match any rule\n",
    "\n",
    "# Apply the rules to create the \"Prediction\" column\n",
    "df['Prediction'] = df.apply(apply_rules, axis=1)\n",
    "\n",
    "# Save the updated DataFrame back to the Excel file\n",
    "df.to_excel(\"classification_with_prediction.xlsx\", index=False, engine='openpyxl')"
   ]
  },
  {
   "cell_type": "code",
   "execution_count": null,
   "metadata": {},
   "outputs": [],
   "source": [
    "import pandas as pd\n",
    "\n",
    "df = pd.read_excel(\"classification_with_prediction.xlsx\")\n",
    "\n",
    "continuous_zeros_sequence = []  \n",
    "new_predictions = [] \n",
    "\n",
    "for index, row in df.iterrows():\n",
    "    prediction = row['Prediction']\n",
    "    \n",
    "    if prediction == 0:\n",
    "        continuous_zeros_sequence.append(index)\n",
    "    else:\n",
    "        if continuous_zeros_sequence:\n",
    "            if df.at[continuous_zeros_sequence[0] - 1, 'Prediction'] == 2 and df.at[index, 'Prediction'] == 4:\n",
    "                for seq_index in continuous_zeros_sequence:\n",
    "                    new_predictions.append(3)\n",
    "            elif df.at[continuous_zeros_sequence[0] - 1, 'Prediction'] == 4 and df.at[index, 'Prediction'] == 2:\n",
    "                for seq_index in continuous_zeros_sequence:\n",
    "                    new_predictions.append(1)\n",
    "            elif df.at[continuous_zeros_sequence[0] - 1, 'Prediction'] == 5 and df.at[index, 'Prediction'] == 2:\n",
    "                for seq_index in continuous_zeros_sequence:\n",
    "                    new_predictions.append(1)\n",
    "            elif df.at[continuous_zeros_sequence[0] - 1, 'Prediction'] == 5 and df.at[index, 'Prediction'] == 0:\n",
    "                for seq_index in continuous_zeros_sequence:\n",
    "                    new_predictions.append(1)\n",
    "            else:\n",
    "                new_predictions.extend([0] * len(continuous_zeros_sequence))\n",
    "            continuous_zeros_sequence = []  \n",
    "        new_predictions.append(prediction)  \n",
    "\n",
    "\n",
    "if continuous_zeros_sequence:\n",
    "    new_predictions.extend([0] * len(continuous_zeros_sequence))\n",
    "\n",
    "df['Prediction'] = new_predictions\n",
    "\n",
    "df.to_excel(\"classification_updated.xlsx\", index=False, engine='openpyxl')\n"
   ]
  }
 ],
 "metadata": {
  "kernelspec": {
   "display_name": "base",
   "language": "python",
   "name": "python3"
  },
  "language_info": {
   "codemirror_mode": {
    "name": "ipython",
    "version": 3
   },
   "file_extension": ".py",
   "mimetype": "text/x-python",
   "name": "python",
   "nbconvert_exporter": "python",
   "pygments_lexer": "ipython3",
   "version": "3.10.9"
  },
  "orig_nbformat": 4
 },
 "nbformat": 4,
 "nbformat_minor": 2
}
